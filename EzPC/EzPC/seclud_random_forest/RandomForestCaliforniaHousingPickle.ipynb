{
 "cells": [
  {
   "cell_type": "code",
   "execution_count": 1,
   "metadata": {},
   "outputs": [],
   "source": [
    "# Import Libraries\n",
    "import numpy as np\n",
    "import pandas as pd\n",
    "import matplotlib.pyplot as plt\n",
    "%matplotlib inline"
   ]
  },
  {
   "cell_type": "code",
   "execution_count": 2,
   "metadata": {},
   "outputs": [
    {
     "data": {
      "text/html": [
       "<div>\n",
       "<table border=\"1\" class=\"dataframe\">\n",
       "  <thead>\n",
       "    <tr style=\"text-align: right;\">\n",
       "      <th></th>\n",
       "      <th>longitude</th>\n",
       "      <th>latitude</th>\n",
       "      <th>housing_median_age</th>\n",
       "      <th>total_rooms</th>\n",
       "      <th>total_bedrooms</th>\n",
       "      <th>population</th>\n",
       "      <th>households</th>\n",
       "      <th>median_income</th>\n",
       "      <th>ocean_proximity</th>\n",
       "      <th>median_house_value</th>\n",
       "    </tr>\n",
       "  </thead>\n",
       "  <tbody>\n",
       "    <tr>\n",
       "      <th>0</th>\n",
       "      <td>-122.23</td>\n",
       "      <td>37.88</td>\n",
       "      <td>41</td>\n",
       "      <td>880</td>\n",
       "      <td>129</td>\n",
       "      <td>322</td>\n",
       "      <td>126</td>\n",
       "      <td>8.3252</td>\n",
       "      <td>NEAR BAY</td>\n",
       "      <td>452600</td>\n",
       "    </tr>\n",
       "    <tr>\n",
       "      <th>1</th>\n",
       "      <td>-122.22</td>\n",
       "      <td>37.86</td>\n",
       "      <td>21</td>\n",
       "      <td>7099</td>\n",
       "      <td>1106</td>\n",
       "      <td>2401</td>\n",
       "      <td>1138</td>\n",
       "      <td>8.3014</td>\n",
       "      <td>NEAR BAY</td>\n",
       "      <td>358500</td>\n",
       "    </tr>\n",
       "    <tr>\n",
       "      <th>2</th>\n",
       "      <td>-122.24</td>\n",
       "      <td>37.85</td>\n",
       "      <td>52</td>\n",
       "      <td>1467</td>\n",
       "      <td>190</td>\n",
       "      <td>496</td>\n",
       "      <td>177</td>\n",
       "      <td>7.2574</td>\n",
       "      <td>NEAR BAY</td>\n",
       "      <td>352100</td>\n",
       "    </tr>\n",
       "    <tr>\n",
       "      <th>3</th>\n",
       "      <td>-122.25</td>\n",
       "      <td>37.85</td>\n",
       "      <td>52</td>\n",
       "      <td>1274</td>\n",
       "      <td>235</td>\n",
       "      <td>558</td>\n",
       "      <td>219</td>\n",
       "      <td>5.6431</td>\n",
       "      <td>NEAR BAY</td>\n",
       "      <td>341300</td>\n",
       "    </tr>\n",
       "    <tr>\n",
       "      <th>4</th>\n",
       "      <td>-122.25</td>\n",
       "      <td>37.85</td>\n",
       "      <td>52</td>\n",
       "      <td>1627</td>\n",
       "      <td>280</td>\n",
       "      <td>565</td>\n",
       "      <td>259</td>\n",
       "      <td>3.8462</td>\n",
       "      <td>NEAR BAY</td>\n",
       "      <td>342200</td>\n",
       "    </tr>\n",
       "  </tbody>\n",
       "</table>\n",
       "</div>"
      ],
      "text/plain": [
       "   longitude  latitude  housing_median_age  total_rooms  total_bedrooms  \\\n",
       "0    -122.23     37.88                  41          880             129   \n",
       "1    -122.22     37.86                  21         7099            1106   \n",
       "2    -122.24     37.85                  52         1467             190   \n",
       "3    -122.25     37.85                  52         1274             235   \n",
       "4    -122.25     37.85                  52         1627             280   \n",
       "\n",
       "   population  households  median_income ocean_proximity  median_house_value  \n",
       "0         322         126         8.3252        NEAR BAY              452600  \n",
       "1        2401        1138         8.3014        NEAR BAY              358500  \n",
       "2         496         177         7.2574        NEAR BAY              352100  \n",
       "3         558         219         5.6431        NEAR BAY              341300  \n",
       "4         565         259         3.8462        NEAR BAY              342200  "
      ]
     },
     "execution_count": 2,
     "metadata": {},
     "output_type": "execute_result"
    }
   ],
   "source": [
    "# Import Dataset\n",
    "dataset = pd.read_csv(\"housing.csv\")\n",
    "dataset.head() # Print first 5 observations from dataset using head()"
   ]
  },
  {
   "cell_type": "code",
   "execution_count": 3,
   "metadata": {},
   "outputs": [
    {
     "data": {
      "text/plain": [
       "longitude             False\n",
       "latitude              False\n",
       "housing_median_age    False\n",
       "total_rooms           False\n",
       "total_bedrooms         True\n",
       "population            False\n",
       "households            False\n",
       "median_income         False\n",
       "ocean_proximity       False\n",
       "median_house_value    False\n",
       "dtype: bool"
      ]
     },
     "execution_count": 3,
     "metadata": {},
     "output_type": "execute_result"
    }
   ],
   "source": [
    "# Check in which column contains nan values\n",
    "dataset.isnull().any()"
   ]
  },
  {
   "cell_type": "code",
   "execution_count": 4,
   "metadata": {},
   "outputs": [
    {
     "name": "stdout",
     "output_type": "stream",
     "text": [
      "[-122.22 37.86 21 7099 1106.0 2401 1138 8.3014 'NEAR BAY']\n"
     ]
    }
   ],
   "source": [
    "# Separate features and labels\n",
    "features = dataset.iloc[:,:-1].values\n",
    "label = dataset.iloc[:,-1].values.reshape(-1,1)\n",
    "print(features[1])"
   ]
  },
  {
   "cell_type": "code",
   "execution_count": 5,
   "metadata": {},
   "outputs": [
    {
     "name": "stdout",
     "output_type": "stream",
     "text": [
      "[-122.22 37.86 21 7099 1106.0 2401 1138 8.3014 'NEAR BAY']\n",
      "9\n"
     ]
    },
    {
     "name": "stderr",
     "output_type": "stream",
     "text": [
      "/usr/local/lib/python3.5/dist-packages/sklearn/utils/deprecation.py:66: DeprecationWarning: Class Imputer is deprecated; Imputer was deprecated in version 0.20 and will be removed in 0.22. Import impute.SimpleImputer from sklearn instead.\n",
      "  warnings.warn(msg, category=DeprecationWarning)\n"
     ]
    }
   ],
   "source": [
    "# Perform Imputation with strategy=mean\n",
    "from sklearn.preprocessing import Imputer\n",
    "imputerNaN = Imputer(missing_values=\"NaN\",strategy=\"mean\",axis=0)\n",
    "features[:,[4]] = imputerNaN.fit_transform(features[:,[4]])\n",
    "print(features[1])\n",
    "print(len(features[1]))"
   ]
  },
  {
   "cell_type": "code",
   "execution_count": 6,
   "metadata": {},
   "outputs": [
    {
     "name": "stdout",
     "output_type": "stream",
     "text": [
      "[-122.22 37.86 21 7099 1106.0 2401 1138 8.3014 'NEAR BAY']\n",
      "{'NEAR BAY', 'INLAND', '<1H OCEAN', 'ISLAND', 'NEAR OCEAN'}\n",
      "[-122.22 37.86 21 7099 1106.0 2401 1138 8.3014 3]\n",
      "9\n",
      "[ 0.0000e+00  0.0000e+00  0.0000e+00  1.0000e+00  0.0000e+00 -1.2222e+02\n",
      "  3.7860e+01  2.1000e+01  7.0990e+03  1.1060e+03  2.4010e+03  1.1380e+03\n",
      "  8.3014e+00]\n",
      "13\n"
     ]
    },
    {
     "name": "stderr",
     "output_type": "stream",
     "text": [
      "/usr/local/lib/python3.5/dist-packages/sklearn/preprocessing/_encoders.py:415: FutureWarning: The handling of integer data will change in version 0.22. Currently, the categories are determined based on the range [0, max(values)], while in the future they will be determined based on the unique values.\n",
      "If you want the future behaviour and silence this warning, you can specify \"categories='auto'\".\n",
      "In case you used a LabelEncoder before this OneHotEncoder to convert the categories to integers, then you can now use the OneHotEncoder directly.\n",
      "  warnings.warn(msg, FutureWarning)\n",
      "/usr/local/lib/python3.5/dist-packages/sklearn/preprocessing/_encoders.py:451: DeprecationWarning: The 'categorical_features' keyword is deprecated in version 0.20 and will be removed in 0.22. You can use the ColumnTransformer instead.\n",
      "  \"use the ColumnTransformer instead.\", DeprecationWarning)\n"
     ]
    }
   ],
   "source": [
    "# Perform Label Encoding and Onehot Encding on categorical values present in the features\n",
    "from sklearn.preprocessing import LabelEncoder,OneHotEncoder\n",
    "print(features[1])\n",
    "print(set(features[:,8]))\n",
    "features[:,8] = LabelEncoder().fit_transform(features[:,8])\n",
    "print(features[1])\n",
    "print(len(features[1]))\n",
    "features = OneHotEncoder(categorical_features=[8]).fit_transform(features).toarray()\n",
    "print(features[1])\n",
    "print(len(features[1]))"
   ]
  },
  {
   "cell_type": "code",
   "execution_count": 7,
   "metadata": {},
   "outputs": [],
   "source": [
    "X,y=features,label # Purpose of this copying variables is that trees doesn't requires scaling while others \"may be\"\n",
    "# Split into training set and testing set in every model building cause of \"random_state\" present in the \"train_test_split\"\n",
    "from sklearn.model_selection import train_test_split as tts\n",
    "X_train,X_test,y_train,y_test = tts(X,y,test_size=0.2,random_state=5)"
   ]
  },
  {
   "cell_type": "code",
   "execution_count": 8,
   "metadata": {},
   "outputs": [
    {
     "data": {
      "text/plain": [
       "RandomForestRegressor(bootstrap=True, criterion='mse', max_depth=9,\n",
       "                      max_features='auto', max_leaf_nodes=None,\n",
       "                      min_impurity_decrease=0.0, min_impurity_split=None,\n",
       "                      min_samples_leaf=1, min_samples_split=2,\n",
       "                      min_weight_fraction_leaf=0.0, n_estimators=10,\n",
       "                      n_jobs=None, oob_score=False, random_state=20, verbose=0,\n",
       "                      warm_start=False)"
      ]
     },
     "execution_count": 8,
     "metadata": {},
     "output_type": "execute_result"
    }
   ],
   "source": [
    "# Random Forest Tree Regression\n",
    "from sklearn.ensemble import RandomForestRegressor\n",
    "depth = 9\n",
    "no_of_estim = 10\n",
    "model_random = RandomForestRegressor(n_estimators=no_of_estim, random_state=20, max_depth=depth)\n",
    "model_random.fit(X_train,y_train.ravel())"
   ]
  },
  {
   "cell_type": "code",
   "execution_count": 9,
   "metadata": {},
   "outputs": [
    {
     "name": "stdout",
     "output_type": "stream",
     "text": [
      "Model Score for Training data: 0.8206121576672762\n",
      "Model Score for Testing data: 0.7754096029715711\n"
     ]
    }
   ],
   "source": [
    "# Perform prediction and model score\n",
    "y_pred = model_random.predict(X_test)\n",
    "from sklearn.metrics import r2_score\n",
    "print(\"Model Score for Training data: {}\".format(model_random.score(X_train,y_train)))\n",
    "print(\"Model Score for Testing data: {}\".format(r2_score(y_test,y_pred)))\n",
    "#print(\"Root Mean Squared Error is {}\".format(np.sqrt(mean_squared_error(y_test,y_pred))))"
   ]
  },
  {
   "cell_type": "code",
   "execution_count": 13,
   "metadata": {},
   "outputs": [],
   "source": [
    "# Export pickle model\n",
    "import pickle\n",
    "pickle.dump(model_random, open('pickle_model.pickle', 'wb'))"
   ]
  },
  {
   "cell_type": "code",
   "execution_count": 14,
   "metadata": {},
   "outputs": [],
   "source": [
    "# Reload pickle model\n",
    "model_loaded = pickle.load(open('pickle_model.pickle', 'rb'))\n",
    "\n",
    "depth = model_loaded.max_depth\n",
    "no_of_estim = model_loaded.n_estimators"
   ]
  },
  {
   "cell_type": "code",
   "execution_count": 15,
   "metadata": {},
   "outputs": [
    {
     "name": "stdout",
     "output_type": "stream",
     "text": [
      "tree0.txt\n",
      "tree1.txt\n",
      "tree2.txt\n",
      "tree3.txt\n",
      "tree4.txt\n",
      "tree5.txt\n",
      "tree6.txt\n",
      "tree7.txt\n",
      "tree8.txt\n",
      "tree9.txt\n"
     ]
    }
   ],
   "source": [
    "from sklearn.tree import export_graphviz\n",
    "from subprocess import call\n",
    "fl = open(\"decision_tree_stat.txt\", 'w')\n",
    "fl.write(str(no_of_estim) + '\\n')\n",
    "fl.write(str(depth+1))\n",
    "fl.close()\n",
    "for i in range(no_of_estim):\n",
    "    estimator = model_loaded.estimators_[i]\n",
    "    # Export as dot file\n",
    "    export_graphviz(estimator, out_file='tree.dot',\n",
    "                    rounded = True, proportion = False, \n",
    "                    precision = 2, filled = True)\n",
    "    filename = \"tree\" + str(i) + \".txt\"\n",
    "    print(filename)\n",
    "    call(['dot', '-Tplain', 'tree.dot', '-o', filename])"
   ]
  },
  {
   "cell_type": "code",
   "execution_count": 54,
   "metadata": {},
   "outputs": [
    {
     "name": "stdout",
     "output_type": "stream",
     "text": [
      "[ 0.0000e+00  0.0000e+00  0.0000e+00  0.0000e+00  1.0000e+00 -1.1707e+02\n",
      "  3.2570e+01  1.4000e+01  1.5270e+03  3.5700e+02  1.2240e+03  3.6300e+02\n",
      "  2.7361e+00]\n"
     ]
    }
   ],
   "source": [
    "import math\n",
    "query = open(\"decision_tree_query.txt\", 'w')\n",
    "scaled_x_test = []\n",
    "print(X_test[0])\n",
    "for i in range(len(X_test[0])):\n",
    "    query.write(str(math.floor(X_test[0][i]*1000)) + '\\n')\n",
    "query.close()\n",
    "\n",
    "ans = open(\"decision_tree_sklearn_ans.txt\", 'w')\n",
    "ans.write(str(y_test[0]) + '\\n')\n",
    "ans.write(str(y_pred[0]) + '\\n')\n",
    "ans.close()"
   ]
  },
  {
   "cell_type": "code",
   "execution_count": 55,
   "metadata": {},
   "outputs": [
    {
     "name": "stdout",
     "output_type": "stream",
     "text": [
      "[133242.04011202 188795.91438441  96736.72755365 ... 280260.40607462\n",
      " 224256.7400748   87405.09663664]\n"
     ]
    }
   ],
   "source": [
    "# Convert to text using system command (requires Graphviz)\n",
    "#from subprocess import call\n",
    "#call(['dot', '-Tplain', 'tree.dot', '-o', 'tree.txt'])\n",
    "print(y_pred)"
   ]
  },
  {
   "cell_type": "code",
   "execution_count": null,
   "metadata": {},
   "outputs": [],
   "source": []
  },
  {
   "cell_type": "code",
   "execution_count": 16,
   "metadata": {},
   "outputs": [],
   "source": []
  }
 ],
 "metadata": {
  "kernelspec": {
   "display_name": "Python 3",
   "language": "python",
   "name": "python3"
  },
  "language_info": {
   "codemirror_mode": {
    "name": "ipython",
    "version": 3
   },
   "file_extension": ".py",
   "mimetype": "text/x-python",
   "name": "python",
   "nbconvert_exporter": "python",
   "pygments_lexer": "ipython3",
   "version": "3.5.2"
  }
 },
 "nbformat": 4,
 "nbformat_minor": 1
}

{
 "cells": [
  {
   "cell_type": "code",
   "execution_count": 1,
   "metadata": {},
   "outputs": [],
   "source": [
    "# Import Libraries\n",
    "import numpy as np\n",
    "import pandas as pd\n",
    "import matplotlib.pyplot as plt\n",
    "%matplotlib inline"
   ]
  },
  {
   "cell_type": "code",
   "execution_count": null,
   "metadata": {},
   "outputs": [],
   "source": []
  },
  {
   "cell_type": "code",
   "execution_count": 2,
   "metadata": {},
   "outputs": [
    {
     "data": {
      "text/html": [
       "<div>\n",
       "<table border=\"1\" class=\"dataframe\">\n",
       "  <thead>\n",
       "    <tr style=\"text-align: right;\">\n",
       "      <th></th>\n",
       "      <th>False</th>\n",
       "      <th>False.1</th>\n",
       "      <th>False.2</th>\n",
       "      <th>False.3</th>\n",
       "      <th>False.4</th>\n",
       "      <th>False.5</th>\n",
       "      <th>False.6</th>\n",
       "      <th>False.7</th>\n",
       "      <th>False.8</th>\n",
       "      <th>False.9</th>\n",
       "      <th>...</th>\n",
       "      <th>True.9</th>\n",
       "      <th>False.27</th>\n",
       "      <th>False.28</th>\n",
       "      <th>False.29</th>\n",
       "      <th>True.10</th>\n",
       "      <th>False.30</th>\n",
       "      <th>True.11</th>\n",
       "      <th>False.31</th>\n",
       "      <th>False.32</th>\n",
       "      <th>G</th>\n",
       "    </tr>\n",
       "  </thead>\n",
       "  <tbody>\n",
       "    <tr>\n",
       "      <th>0</th>\n",
       "      <td>False</td>\n",
       "      <td>False</td>\n",
       "      <td>False</td>\n",
       "      <td>False</td>\n",
       "      <td>False</td>\n",
       "      <td>False</td>\n",
       "      <td>False</td>\n",
       "      <td>False</td>\n",
       "      <td>False</td>\n",
       "      <td>False</td>\n",
       "      <td>...</td>\n",
       "      <td>True</td>\n",
       "      <td>True</td>\n",
       "      <td>False</td>\n",
       "      <td>False</td>\n",
       "      <td>True</td>\n",
       "      <td>False</td>\n",
       "      <td>True</td>\n",
       "      <td>False</td>\n",
       "      <td>False</td>\n",
       "      <td>G</td>\n",
       "    </tr>\n",
       "    <tr>\n",
       "      <th>1</th>\n",
       "      <td>False</td>\n",
       "      <td>False</td>\n",
       "      <td>False</td>\n",
       "      <td>False</td>\n",
       "      <td>False</td>\n",
       "      <td>False</td>\n",
       "      <td>False</td>\n",
       "      <td>False</td>\n",
       "      <td>False</td>\n",
       "      <td>False</td>\n",
       "      <td>...</td>\n",
       "      <td>True</td>\n",
       "      <td>False</td>\n",
       "      <td>False</td>\n",
       "      <td>False</td>\n",
       "      <td>False</td>\n",
       "      <td>False</td>\n",
       "      <td>False</td>\n",
       "      <td>False</td>\n",
       "      <td>False</td>\n",
       "      <td>G</td>\n",
       "    </tr>\n",
       "    <tr>\n",
       "      <th>2</th>\n",
       "      <td>False</td>\n",
       "      <td>False</td>\n",
       "      <td>False</td>\n",
       "      <td>False</td>\n",
       "      <td>False</td>\n",
       "      <td>False</td>\n",
       "      <td>False</td>\n",
       "      <td>False</td>\n",
       "      <td>False</td>\n",
       "      <td>False</td>\n",
       "      <td>...</td>\n",
       "      <td>True</td>\n",
       "      <td>False</td>\n",
       "      <td>False</td>\n",
       "      <td>False</td>\n",
       "      <td>False</td>\n",
       "      <td>False</td>\n",
       "      <td>False</td>\n",
       "      <td>False</td>\n",
       "      <td>False</td>\n",
       "      <td>G</td>\n",
       "    </tr>\n",
       "    <tr>\n",
       "      <th>3</th>\n",
       "      <td>False</td>\n",
       "      <td>False</td>\n",
       "      <td>False</td>\n",
       "      <td>False</td>\n",
       "      <td>False</td>\n",
       "      <td>False</td>\n",
       "      <td>False</td>\n",
       "      <td>False</td>\n",
       "      <td>False</td>\n",
       "      <td>False</td>\n",
       "      <td>...</td>\n",
       "      <td>True</td>\n",
       "      <td>False</td>\n",
       "      <td>False</td>\n",
       "      <td>False</td>\n",
       "      <td>False</td>\n",
       "      <td>False</td>\n",
       "      <td>False</td>\n",
       "      <td>False</td>\n",
       "      <td>False</td>\n",
       "      <td>G</td>\n",
       "    </tr>\n",
       "    <tr>\n",
       "      <th>4</th>\n",
       "      <td>False</td>\n",
       "      <td>False</td>\n",
       "      <td>False</td>\n",
       "      <td>False</td>\n",
       "      <td>False</td>\n",
       "      <td>False</td>\n",
       "      <td>False</td>\n",
       "      <td>False</td>\n",
       "      <td>False</td>\n",
       "      <td>False</td>\n",
       "      <td>...</td>\n",
       "      <td>True</td>\n",
       "      <td>True</td>\n",
       "      <td>False</td>\n",
       "      <td>False</td>\n",
       "      <td>True</td>\n",
       "      <td>False</td>\n",
       "      <td>True</td>\n",
       "      <td>False</td>\n",
       "      <td>False</td>\n",
       "      <td>G</td>\n",
       "    </tr>\n",
       "  </tbody>\n",
       "</table>\n",
       "<p>5 rows × 46 columns</p>\n",
       "</div>"
      ],
      "text/plain": [
       "    False  False.1  False.2  False.3  False.4  False.5  False.6  False.7  \\\n",
       "0   False    False    False    False    False    False    False    False   \n",
       "1   False    False    False    False    False    False    False    False   \n",
       "2   False    False    False    False    False    False    False    False   \n",
       "3   False    False    False    False    False    False    False    False   \n",
       "4   False    False    False    False    False    False    False    False   \n",
       "\n",
       "   False.8  False.9 ...  True.9  False.27  False.28  False.29  True.10  \\\n",
       "0    False    False ...    True      True     False     False     True   \n",
       "1    False    False ...    True     False     False     False    False   \n",
       "2    False    False ...    True     False     False     False    False   \n",
       "3    False    False ...    True     False     False     False    False   \n",
       "4    False    False ...    True      True     False     False     True   \n",
       "\n",
       "   False.30  True.11  False.31  False.32   G  \n",
       "0     False     True     False     False   G  \n",
       "1     False    False     False     False   G  \n",
       "2     False    False     False     False   G  \n",
       "3     False    False     False     False   G  \n",
       "4     False     True     False     False   G  \n",
       "\n",
       "[5 rows x 46 columns]"
      ]
     },
     "execution_count": 2,
     "metadata": {},
     "output_type": "execute_result"
    }
   ],
   "source": [
    "# Import Dataset\n",
    "dataset = pd.read_csv(\"office_training.csv\")\n",
    "dataset_prime = dataset.iloc[:, 1:]\n",
    "#dataset.head() # Print first 5 observations from dataset using head()\n",
    "dataset = dataset_prime\n",
    "dataset.head()"
   ]
  },
  {
   "cell_type": "code",
   "execution_count": 3,
   "metadata": {},
   "outputs": [
    {
     "data": {
      "text/plain": [
       " False       False\n",
       " False.1     False\n",
       " False.2     False\n",
       " False.3     False\n",
       " False.4     False\n",
       " False.5     False\n",
       " False.6     False\n",
       " False.7     False\n",
       " False.8     False\n",
       " False.9     False\n",
       " False.10    False\n",
       " False.11    False\n",
       " False.12    False\n",
       " False.13    False\n",
       " True        False\n",
       " False.14    False\n",
       " False.15    False\n",
       " False.16    False\n",
       " False.17    False\n",
       " True.1      False\n",
       " False.18    False\n",
       " False.19    False\n",
       " False.20    False\n",
       " False.21    False\n",
       " True.2      False\n",
       " False.22    False\n",
       " True.3      False\n",
       " False.23    False\n",
       " False.24    False\n",
       " False.25    False\n",
       " False.26    False\n",
       " True.4      False\n",
       " True.5      False\n",
       " True.6      False\n",
       " True.7      False\n",
       " True.8      False\n",
       " True.9      False\n",
       " False.27    False\n",
       " False.28    False\n",
       " False.29    False\n",
       " True.10     False\n",
       " False.30    False\n",
       " True.11     False\n",
       " False.31    False\n",
       " False.32    False\n",
       " G           False\n",
       "dtype: bool"
      ]
     },
     "execution_count": 3,
     "metadata": {},
     "output_type": "execute_result"
    }
   ],
   "source": [
    "# Check in which column contains nan values\n",
    "dataset.isnull().any()"
   ]
  },
  {
   "cell_type": "code",
   "execution_count": 4,
   "metadata": {},
   "outputs": [
    {
     "data": {
      "text/plain": [
       " False       False\n",
       " False.1     False\n",
       " False.2     False\n",
       " False.3     False\n",
       " False.4     False\n",
       " False.5     False\n",
       " False.6     False\n",
       " False.7     False\n",
       " False.8     False\n",
       " False.9     False\n",
       " False.10    False\n",
       " False.11    False\n",
       " False.12    False\n",
       " False.13    False\n",
       " True        False\n",
       " False.14    False\n",
       " False.15    False\n",
       " False.16    False\n",
       " False.17    False\n",
       " True.1      False\n",
       " False.18    False\n",
       " False.19    False\n",
       " False.20    False\n",
       " False.21    False\n",
       " True.2      False\n",
       " False.22    False\n",
       " True.3      False\n",
       " False.23    False\n",
       " False.24    False\n",
       " False.25    False\n",
       " False.26    False\n",
       " True.4      False\n",
       " True.5      False\n",
       " True.6      False\n",
       " True.7      False\n",
       " True.8      False\n",
       " True.9      False\n",
       " False.27    False\n",
       " False.28    False\n",
       " False.29    False\n",
       " True.10     False\n",
       " False.30    False\n",
       " True.11     False\n",
       " False.31    False\n",
       " False.32    False\n",
       " G           False\n",
       "dtype: bool"
      ]
     },
     "execution_count": 4,
     "metadata": {},
     "output_type": "execute_result"
    }
   ],
   "source": [
    "for i in range(len(dataset)):\n",
    "    for j in range(len(dataset.iloc[0])):\n",
    "        if(j < len(dataset.iloc[0])-1):\n",
    "            if(dataset.iloc[i, j] == ' False'):\n",
    "                dataset.iloc[i, j] = 0\n",
    "            else:\n",
    "                dataset.iloc[i, j] = 1\n",
    "        else:\n",
    "            if(dataset.iloc[i, j] == ' G'):\n",
    "                dataset.iloc[i, j] = 0\n",
    "            else:\n",
    "                dataset.iloc[i, j] = 1\n",
    "\n",
    "# Check in which column contains nan values\n",
    "dataset.isnull().any()"
   ]
  },
  {
   "cell_type": "code",
   "execution_count": 5,
   "metadata": {},
   "outputs": [
    {
     "name": "stdout",
     "output_type": "stream",
     "text": [
      "[0 0 0 0 0 0 0 0 0 0 0 0 0 0 0 0 0 0 0 1 1 0 0 0 0 1 0 0 0 0 0 0 1 1 1 1 1\n",
      " 1 0 0 1 0 1 0 0]\n"
     ]
    }
   ],
   "source": [
    "# Separate features and labels\n",
    "features = dataset.iloc[:,:-1].values\n",
    "label = dataset.iloc[:,-1].values.reshape(-1,1)\n",
    "print(features[0])"
   ]
  },
  {
   "cell_type": "code",
   "execution_count": null,
   "metadata": {},
   "outputs": [],
   "source": []
  },
  {
   "cell_type": "code",
   "execution_count": 6,
   "metadata": {},
   "outputs": [
    {
     "name": "stdout",
     "output_type": "stream",
     "text": [
      "[0.0 0.0 0.0 0.0 0.0 0.0 0.0 0.0 0.0 0.0 0.0 0.0 0.0 0.0 0.0 0.0 0.0 0.0\n",
      " 0.0 0.0 0.0 0.0 0.0 0.0 0.0 0.0 0.0 0.0 0.0 0.0 0.0 0.0 0.0 0.0 0.0 0.0\n",
      " 1.0 0.0 0.0 0.0 0.0 0.0 0.0 0.0 0.0]\n",
      "45\n"
     ]
    },
    {
     "name": "stderr",
     "output_type": "stream",
     "text": [
      "/usr/local/lib/python3.5/dist-packages/sklearn/utils/deprecation.py:66: DeprecationWarning: Class Imputer is deprecated; Imputer was deprecated in version 0.20 and will be removed in 0.22. Import impute.SimpleImputer from sklearn instead.\n",
      "  warnings.warn(msg, category=DeprecationWarning)\n"
     ]
    }
   ],
   "source": [
    "# Perform Imputation with strategy=mean\n",
    "from sklearn.preprocessing import Imputer\n",
    "imputerNaN = Imputer(missing_values=\"NaN\",strategy=\"mean\",axis=0)\n",
    "features[:,:] = imputerNaN.fit_transform(features[:,:])\n",
    "print(features[1])\n",
    "print(len(features[1]))"
   ]
  },
  {
   "cell_type": "code",
   "execution_count": null,
   "metadata": {},
   "outputs": [],
   "source": []
  },
  {
   "cell_type": "code",
   "execution_count": 7,
   "metadata": {},
   "outputs": [],
   "source": [
    "# Perform Label Encoding and Onehot Encding on categorical values present in the features\n",
    "#from sklearn.preprocessing import LabelEncoder,OneHotEncoder\n",
    "#print(features[1])\n",
    "#print(set(features[:,8]))\n",
    "#features[:,8] = LabelEncoder().fit_transform(features[:,8])\n",
    "#print(features[1])\n",
    "#print(len(features[1]))\n",
    "#features = OneHotEncoder(categorical_features=[8]).fit_transform(features).toarray()\n",
    "#print(features[1])\n",
    "#print(len(features[1]))\n",
    "label=label.astype('int')"
   ]
  },
  {
   "cell_type": "code",
   "execution_count": 8,
   "metadata": {},
   "outputs": [],
   "source": [
    "X,y=features,label # Purpose of this copying variables is that trees doesn't requires scaling while others \"may be\"\n",
    "# Split into training set and testing set in every model building cause of \"random_state\" present in the \"train_test_split\"\n",
    "from sklearn.model_selection import train_test_split as tts\n",
    "X_train,X_test,y_train,y_test = tts(X,y,test_size=0.1,random_state=5)"
   ]
  },
  {
   "cell_type": "code",
   "execution_count": null,
   "metadata": {},
   "outputs": [],
   "source": []
  },
  {
   "cell_type": "code",
   "execution_count": 36,
   "metadata": {},
   "outputs": [
    {
     "data": {
      "text/plain": [
       "DecisionTreeClassifier(class_weight=None, criterion='gini', max_depth=12,\n",
       "                       max_features=None, max_leaf_nodes=None,\n",
       "                       min_impurity_decrease=0.0, min_impurity_split=None,\n",
       "                       min_samples_leaf=1, min_samples_split=2,\n",
       "                       min_weight_fraction_leaf=0.0, presort=False,\n",
       "                       random_state=20, splitter='best')"
      ]
     },
     "execution_count": 36,
     "metadata": {},
     "output_type": "execute_result"
    }
   ],
   "source": [
    "# Random Forest Tree Regression\n",
    "from sklearn.tree import DecisionTreeClassifier\n",
    "depth = 12\n",
    "model_random = DecisionTreeClassifier(random_state=20, max_depth=depth, criterion=\"gini\")\n",
    "model_random.fit(X_train,y_train.ravel())"
   ]
  },
  {
   "cell_type": "code",
   "execution_count": 37,
   "metadata": {},
   "outputs": [
    {
     "name": "stdout",
     "output_type": "stream",
     "text": [
      "R2 score Regression: \n",
      "Model Score for Training data: 0.9988649262202043\n",
      "Model Score for Testing data: 0.9591666666666667\n",
      "Accuracy score Classification: \n",
      "Model Score for Training data: 0.9988649262202043\n",
      "Model Score for Testing data: 0.9897959183673469\n"
     ]
    }
   ],
   "source": [
    "# Perform prediction and model score\n",
    "y_pred = model_random.predict(X_test)\n",
    "from sklearn.metrics import r2_score\n",
    "print(\"R2 score Regression: \")\n",
    "print(\"Model Score for Training data: {}\".format(model_random.score(X_train,y_train)))\n",
    "print(\"Model Score for Testing data: {}\".format(r2_score(y_test,y_pred)))\n",
    "#print(\"Root Mean Squared Error is {}\".format(np.sqrt(mean_squared_error(y_test,y_pred))))\n",
    "print(\"Accuracy score Classification: \")\n",
    "from sklearn.metrics import accuracy_score\n",
    "print(\"Model Score for Training data: {}\".format(model_random.score(X_train,y_train)))\n",
    "print(\"Model Score for Testing data: {}\".format(accuracy_score(y_test,y_pred)))"
   ]
  },
  {
   "cell_type": "code",
   "execution_count": 45,
   "metadata": {},
   "outputs": [],
   "source": [
    "# Export pickle model\n",
    "import pickle\n",
    "pickle.dump(model_random, open('pickle_model.pickle', 'wb'))"
   ]
  },
  {
   "cell_type": "code",
   "execution_count": 39,
   "metadata": {},
   "outputs": [],
   "source": [
    "# Reload pickle model\n",
    "model_loaded = pickle.load(open('pickle_model.pickle', 'rb'))\n",
    "\n",
    "depth = model_loaded.max_depth"
   ]
  },
  {
   "cell_type": "code",
   "execution_count": 40,
   "metadata": {},
   "outputs": [
    {
     "name": "stdout",
     "output_type": "stream",
     "text": [
      "tree0.txt\n"
     ]
    },
    {
     "data": {
      "text/plain": [
       "0"
      ]
     },
     "execution_count": 40,
     "metadata": {},
     "output_type": "execute_result"
    }
   ],
   "source": [
    "from sklearn.tree import export_graphviz\n",
    "from subprocess import call\n",
    "fl = open(\"decision_tree_stat.txt\", 'w')\n",
    "fl.write(str(depth+1))\n",
    "fl.close()\n",
    "# Export as dot file\n",
    "export_graphviz(model_loaded, out_file='tree.dot',\n",
    "                rounded = True, proportion = False, \n",
    "                precision = 2, filled = True, class_names=['0', '1'])\n",
    "filename = \"tree\" + str(0) + \".txt\"\n",
    "print(filename)\n",
    "call(['dot', '-Tplain', 'tree.dot', '-o', filename])"
   ]
  },
  {
   "cell_type": "code",
   "execution_count": 47,
   "metadata": {},
   "outputs": [
    {
     "name": "stdout",
     "output_type": "stream",
     "text": [
      "[0.0 0.0 0.0 0.0 0.0 0.0 0.0 0.0 0.0 0.0 0.0 0.0 0.0 0.0 0.0 0.0 0.0 0.0\n",
      " 0.0 0.0 0.0 0.0 0.0 0.0 0.0 0.0 0.0 0.0 0.0 0.0 0.0 1.0 0.0 0.0 1.0 1.0\n",
      " 1.0 0.0 0.0 0.0 0.0 0.0 0.0 0.0 0.0]\n"
     ]
    }
   ],
   "source": [
    "import math\n",
    "query = open(\"decision_tree_query.txt\", 'w')\n",
    "scaled_x_test = []\n",
    "print(X_test[9])\n",
    "for i in range(len(X_test[9])):\n",
    "    query.write(str(math.floor(X_test[9][i]*1000)) + '\\n')\n",
    "query.close()\n",
    "\n",
    "ans = open(\"decision_tree_sklearn_ans.txt\", 'w')\n",
    "ans.write(str(y_test[0]) + '\\n')\n",
    "ans.write(str(y_pred[0]) + '\\n')\n",
    "ans.close()"
   ]
  },
  {
   "cell_type": "code",
   "execution_count": 44,
   "metadata": {},
   "outputs": [
    {
     "name": "stdout",
     "output_type": "stream",
     "text": [
      "[1 1 0 0 0 1 0 0 1 0 0 1 1 0 1 1 1 1 0 1 0 0 1 1 0 1 1 1 0 1 1 1 1 0 0 1 0\n",
      " 0 1 1 0 0 0 0 1 1 0 1 1 0 1 1 1 0 0 0 1 0 1 0 1 1 0 1 0 0 1 0 1 1 0 0 1 1\n",
      " 0 0 1 0 1 0 1 0 0 1 0 0 1 1 0 0 1 0 1 0 0 1 1 1]\n"
     ]
    }
   ],
   "source": [
    "# Convert to text using system command (requires Graphviz)\n",
    "#from subprocess import call\n",
    "#call(['dot', '-Tplain', 'tree.dot', '-o', 'tree.txt'])\n",
    "print(y_pred)"
   ]
  },
  {
   "cell_type": "code",
   "execution_count": null,
   "metadata": {},
   "outputs": [],
   "source": []
  },
  {
   "cell_type": "code",
   "execution_count": 16,
   "metadata": {},
   "outputs": [],
   "source": []
  }
 ],
 "metadata": {
  "kernelspec": {
   "display_name": "Python 3",
   "language": "python",
   "name": "python3"
  },
  "language_info": {
   "codemirror_mode": {
    "name": "ipython",
    "version": 3
   },
   "file_extension": ".py",
   "mimetype": "text/x-python",
   "name": "python",
   "nbconvert_exporter": "python",
   "pygments_lexer": "ipython3",
   "version": "3.5.2"
  }
 },
 "nbformat": 4,
 "nbformat_minor": 1
}
